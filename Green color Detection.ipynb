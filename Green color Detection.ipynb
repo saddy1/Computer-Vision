{
 "cells": [
  {
   "cell_type": "markdown",
   "metadata": {},
   "source": [
    "To detect Green color"
   ]
  },
  {
   "cell_type": "code",
   "execution_count": 81,
   "metadata": {},
   "outputs": [],
   "source": [
    "import cv2\n",
    "import numpy as np\n",
    "import matplotlib.pyplot as plt\n",
    "import matplotlib.image as mpimg"
   ]
  },
  {
   "cell_type": "code",
   "execution_count": 82,
   "metadata": {},
   "outputs": [],
   "source": [
    "image=cv2.imread('/home/saddy/Downloads/img.png')\n",
    "# image=mpimg.imread('/home/saddy/Downloads/img.png')\n",
    "image= cv2.resize(image,(800,600))\n",
    "hsv= cv2.cvtColor(image,cv2.COLOR_BGR2HSV)\n",
    "\n",
    "# lower bound and upper bound for Green color\n",
    "lower_bound = np.array([50, 20, 20])   \n",
    "upper_bound = np.array([100, 255, 255])\n",
    "\n",
    "# find the colors within the boundaries\n",
    "mask = cv2.inRange(hsv, lower_bound, upper_bound)\n",
    "\n",
    "\n",
    "\n"
   ]
  },
  {
   "cell_type": "code",
   "execution_count": 83,
   "metadata": {},
   "outputs": [],
   "source": [
    "#define kernel size  \n",
    "kernel = np.ones((7,7),np.uint8)\n",
    "# Remove unnecessary noise from mask\n",
    "mask = cv2.morphologyEx(mask, cv2.MORPH_CLOSE, kernel)\n",
    "mask = cv2.morphologyEx(mask, cv2.MORPH_OPEN, kernel)"
   ]
  },
  {
   "cell_type": "markdown",
   "metadata": {},
   "source": [
    "# np.ones((7,7),np.uint8) create a 5×5 8 bit integer matrix.\n",
    "# cv2.MORPH_CLOSE removes unnecessary black noises from the white region.\n",
    "# cv2.MORPH_OPEN removes white noise from the black region of the mask."
   ]
  },
  {
   "cell_type": "code",
   "execution_count": 84,
   "metadata": {},
   "outputs": [],
   "source": [
    "# Segment only the detected region(this is used to find green reasion in image)\n",
    "segmented_img = cv2.bitwise_and(image, image, mask=mask)"
   ]
  },
  {
   "cell_type": "code",
   "execution_count": 85,
   "metadata": {},
   "outputs": [],
   "source": [
    "# Find contours from the mask\n",
    "contours, hierarchy = cv2.findContours(mask.copy(), cv2.RETR_EXTERNAL, cv2.CHAIN_APPROX_SIMPLE)\n",
    "output = cv2.drawContours(segmented_img, contours, -1, (0, 0, 255), 3)"
   ]
  },
  {
   "cell_type": "code",
   "execution_count": 86,
   "metadata": {},
   "outputs": [],
   "source": [
    "# plt.imshow(image)\n",
    "# plt.show()\n",
    "# cv2.imshow('frame',image)\n",
    "# cv2.imshow('mask',mask)\n",
    "cv2.imshow('green detected',output)\n",
    "# cv2.imshow('Segmented',segmented_img)\n",
    "cv2.waitKey(0)\n",
    "cv2.destroyAllWindows()\n"
   ]
  },
  {
   "cell_type": "code",
   "execution_count": null,
   "metadata": {},
   "outputs": [],
   "source": []
  }
 ],
 "metadata": {
  "interpreter": {
   "hash": "916dbcbb3f70747c44a77c7bcd40155683ae19c65e1c03b4aa3499c5328201f1"
  },
  "kernelspec": {
   "display_name": "Python 3.8.10 64-bit",
   "language": "python",
   "name": "python3"
  },
  "language_info": {
   "codemirror_mode": {
    "name": "ipython",
    "version": 3
   },
   "file_extension": ".py",
   "mimetype": "text/x-python",
   "name": "python",
   "nbconvert_exporter": "python",
   "pygments_lexer": "ipython3",
   "version": "3.8.10"
  },
  "orig_nbformat": 4
 },
 "nbformat": 4,
 "nbformat_minor": 2
}
